{
 "cells": [
  {
   "cell_type": "code",
   "execution_count": null,
   "metadata": {},
   "outputs": [],
   "source": [
    "import numpy as np\n"
   ]
  },
  {
   "cell_type": "markdown",
   "metadata": {},
   "source": [
    "# **Ex1 : CYK algorithm**"
   ]
  },
  {
   "cell_type": "code",
   "execution_count": 2,
   "metadata": {},
   "outputs": [],
   "source": [
    "class Symbol:\n",
    "    def __init__(self, name , isTerminal):\n",
    "        self.name = name\n",
    "        self.isTerminal = isTerminal\n",
    "    def __str__(self) -> str:\n",
    "        return f'{self.name}  {self.isTerminal}'"
   ]
  },
  {
   "cell_type": "code",
   "execution_count": 3,
   "metadata": {},
   "outputs": [],
   "source": [
    "class Rule:\n",
    "    '''\n",
    "    S --> NP VP\n",
    "    S : name\n",
    "    NP,VP : results \n",
    "    '''\n",
    "    def __init__(self,symbol:Symbol):   \n",
    "        self.symbol = symbol\n",
    "        self.results:[[Symbol]] = [] if not symbol.isTerminal else None\n",
    "    \n",
    "    def add_result(self,result):\n",
    "        assert type(result) == list ,'Result must be a list of symbols'\n",
    "        assert not self.symbol.isTerminal ,'Terminal symbol cannot have results' \n",
    "            \n",
    "        self.results.append(result)\n",
    "      \n",
    "    def __str__(self):\n",
    "        return self.symbol.name + ' --> ' + ' | '.join([' '.join([s.name for s in r]) for r in self.results])\n",
    "    "
   ]
  },
  {
   "cell_type": "code",
   "execution_count": 4,
   "metadata": {},
   "outputs": [],
   "source": [
    "class Grammar:\n",
    "    def __init__(self,rules):\n",
    "        self.rules = rules\n",
    "    def __str__(self):\n",
    "        return '\\n'.join([str(r) for r in self.rules])"
   ]
  },
  {
   "cell_type": "markdown",
   "metadata": {},
   "source": [
    "**Building rules**\n"
   ]
  },
  {
   "cell_type": "code",
   "execution_count": 5,
   "metadata": {},
   "outputs": [],
   "source": [
    "S = Rule(Symbol('S',False))\n",
    "NP = Rule(Symbol('NP',False))\n",
    "VP = Rule(Symbol('VP',False))\n",
    "Det = Rule(Symbol('Det',False))\n",
    "Verb = Rule(Symbol('Verb',False))\n",
    "Nom = Rule(Symbol('Nom',False))\n",
    "# adding the results\n",
    "S.add_result([NP.symbol,VP.symbol])\n",
    "NP.add_result([Det.symbol,Nom.symbol])\n",
    "VP.add_result([Verb.symbol,NP.symbol])\n",
    "Det.add_result([Symbol('le',True)])\n",
    "Det.add_result([Symbol('la',True)])\n",
    "Det.add_result([Symbol('les',True)])\n",
    "Verb.add_result([Symbol('mange',True)])\n",
    "Nom.add_result([Symbol('pomme',True),Symbol('garçon',True)])"
   ]
  },
  {
   "cell_type": "code",
   "execution_count": 6,
   "metadata": {},
   "outputs": [
    {
     "name": "stdout",
     "output_type": "stream",
     "text": [
      "S --> NP VP\n",
      "NP --> Det Nom\n",
      "VP --> Verb NP\n",
      "Det --> le | la | les\n",
      "Verb --> mange\n",
      "Nom --> pomme garçon\n"
     ]
    }
   ],
   "source": [
    "ex1Grammar = Grammar(rules=[S,NP,VP,Det,Verb,Nom])\n",
    "print(ex1Grammar)"
   ]
  },
  {
   "cell_type": "code",
   "execution_count": 7,
   "metadata": {},
   "outputs": [],
   "source": [
    "def wordsInTerminalRule(rule:Rule,words:list[str])-> bool:\n",
    "    for result in rule.results:\n",
    "        # go to the next gen if its not terminal acording to CNF\n",
    "        if not result[0].isTerminal:\n",
    "            continue\n",
    "        # check if the words are contained in the results\n",
    "        isGenerated = not np.any([word not in [symbol.name for symbol in result] for word in words])\n",
    "        if isGenerated:\n",
    "            return True\n",
    "    return False"
   ]
  },
  {
   "cell_type": "code",
   "execution_count": 8,
   "metadata": {},
   "outputs": [],
   "source": [
    "def displayTheMatrix(matrix:[[set]]):\n",
    "    for row in matrix:\n",
    "        for sSet in row:\n",
    "            rules = [r.name for r in sSet]\n",
    "            print(rules,end='')\n",
    "        print('\\n')"
   ]
  },
  {
   "cell_type": "code",
   "execution_count": 9,
   "metadata": {},
   "outputs": [],
   "source": [
    "def cartesianProduct(set1:tuple,set2:tuple)->set:\n",
    "    return set((x,y) for ix,x in enumerate(set1) for iy,y in enumerate(set2) if ix != iy)\n"
   ]
  },
  {
   "cell_type": "code",
   "execution_count": 11,
   "metadata": {},
   "outputs": [
    {
     "name": "stdout",
     "output_type": "stream",
     "text": [
      "['le', 'garçon', 'mange', 'la', 'pomme']\n",
      "S --> NP VP\n",
      "NP --> Det Nom\n",
      "VP --> Verb NP\n",
      "Det --> le | la | les\n",
      "Verb --> mange\n",
      "Nom --> pomme garçon\n"
     ]
    }
   ],
   "source": [
    "\n",
    "words = \"le garçon mange la pomme\".split()\n",
    "size = len(words)\n",
    "print(words)\n",
    "cykMatrix = [[set() for _ in range(size)] for _ in range(size)]\n",
    "print(ex1Grammar)\n",
    "\n",
    "# fill the first level\n",
    "\n",
    "for i in range(size):\n",
    "    for rule in ex1Grammar.rules:\n",
    "        if wordsInTerminalRule(rule,[words[i]]):\n",
    "            cykMatrix[0][i].add(rule.symbol)\n",
    "for level in range(1,size):\n",
    "    # level side\n",
    "    subLen = level + 1\n",
    "    for i in range(size - level):\n",
    "        # subLen side\n",
    "        subSets = [x for x in cykMatrix[level-1][i:i+subLen]]\n",
    "        subSymbols = [x for subSet in subSets for x in subSet] \n",
    "        cykMatrix[level][i] = cartesianProduct(tuple(subSymbols),tuple(subSymbols))\n",
    "        \n",
    "# print(cykMatrix)"
   ]
  },
  {
   "cell_type": "code",
   "execution_count": null,
   "metadata": {},
   "outputs": [
    {
     "name": "stdout",
     "output_type": "stream",
     "text": [
      "Nom  False\n",
      "Verb  False\n"
     ]
    }
   ],
   "source": [
    "subSets = [x for x in cykMatrix[0][1:1+2]]\n",
    "subSymbols = [x for subSet in subSets for x in subSet]\n",
    "for x in subSymbols:\n",
    "    print(x)"
   ]
  },
  {
   "cell_type": "code",
   "execution_count": 18,
   "metadata": {},
   "outputs": [],
   "source": [
    "for i in range(len(cykMatrix)):\n",
    "    for j in range(len(cykMatrix[i])):\n",
    "        print(cykMatrix[i])\n",
    "        "
   ]
  },
  {
   "cell_type": "code",
   "execution_count": null,
   "metadata": {},
   "outputs": [],
   "source": [
    "# cyk algorithm\n",
    "def cyk(grammar,word):\n",
    "    '''\n",
    "    grammar: a Grammar object\n",
    "    word: a list of Symbols\n",
    "    '''\n",
    "     "
   ]
  },
  {
   "cell_type": "code",
   "execution_count": null,
   "metadata": {},
   "outputs": [
    {
     "name": "stdout",
     "output_type": "stream",
     "text": [
      "{'A', 'B'}\n"
     ]
    }
   ],
   "source": [
    "a = set()\n",
    "a.add(\"A\")\n",
    "a.add(\"B\")\n",
    "a.add(\"B\")\n",
    "print(a)"
   ]
  },
  {
   "cell_type": "markdown",
   "metadata": {},
   "source": []
  }
 ],
 "metadata": {
  "kernelspec": {
   "display_name": "base",
   "language": "python",
   "name": "python3"
  },
  "language_info": {
   "codemirror_mode": {
    "name": "ipython",
    "version": 3
   },
   "file_extension": ".py",
   "mimetype": "text/x-python",
   "name": "python",
   "nbconvert_exporter": "python",
   "pygments_lexer": "ipython3",
   "version": "3.8.18"
  }
 },
 "nbformat": 4,
 "nbformat_minor": 2
}
